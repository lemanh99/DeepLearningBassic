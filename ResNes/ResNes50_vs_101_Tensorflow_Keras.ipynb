{
  "nbformat": 4,
  "nbformat_minor": 0,
  "metadata": {
    "colab": {
      "name": "Edit",
      "provenance": [],
      "collapsed_sections": []
    },
    "kernelspec": {
      "name": "python3",
      "display_name": "Python 3"
    },
    "accelerator": "GPU"
  },
  "cells": [
    {
      "cell_type": "code",
      "metadata": {
        "id": "gcxBsLGN3BMf",
        "colab_type": "code",
        "colab": {}
      },
      "source": [
        "import tensorflow as tf\n",
        "from tensorflow.keras.models import Sequential\n",
        "from tensorflow.keras.layers import Conv2D, BatchNormalization, ReLU, MaxPooling2D, GlobalAvgPool2D, Dense\n",
        "from tensorflow.keras.activations import relu"
      ],
      "execution_count": 1,
      "outputs": []
    },
    {
      "cell_type": "code",
      "metadata": {
        "id": "EwOcnYXV1hvd",
        "colab_type": "code",
        "colab": {}
      },
      "source": [
        "class Residual(tf.keras.Model):\n",
        "    def __init__(self, num_channels, use_1x1_conv=False, strides=1):\n",
        "        super().__init__()\n",
        "        self.conv1 = Conv2D(num_channels, kernel_size=3, strides=strides, padding='same')\n",
        "        self.conv2 = Conv2D(num_channels, kernel_size=3, padding='same')\n",
        "        self.conv3 = None\n",
        "        if use_1x1_conv:\n",
        "            self.conv3 = Conv2D(num_channels, kernel_size=1, strides=strides)\n",
        "        self.bn1 = BatchNormalization()\n",
        "        self.bn2 = BatchNormalization()\n",
        "\n",
        "    def call(self, X):\n",
        "        Y = relu(self.bn1(self.conv1(X)))\n",
        "        Y = self.bn2(self.conv2(Y))\n",
        "        if self.conv3 is not None:\n",
        "            X = self.conv3(X)\n",
        "        Y += X\n",
        "        return relu(Y)"
      ],
      "execution_count": 2,
      "outputs": []
    },
    {
      "cell_type": "code",
      "metadata": {
        "id": "F08Jjz9T27ci",
        "colab_type": "code",
        "colab": {}
      },
      "source": [
        "class ResnetBlock(tf.keras.layers.Layer):\n",
        "    def __init__(self, num_channels, num_residuals, first_block=False, **kwargs):\n",
        "        super(ResnetBlock, self).__init__(**kwargs)\n",
        "        self.residual_layers = []\n",
        "        for i in range(num_residuals):\n",
        "            if i == 0 and not first_block:\n",
        "                self.residual_layers.append(Residual(num_channels, use_1x1_conv=True, strides=2))\n",
        "            else:\n",
        "                self.residual_layers.append(Residual(num_channels))\n",
        "\n",
        "    def call(self, X):\n",
        "        for layer in self.residual_layers.layers:\n",
        "            X = layer(X)\n",
        "        return X"
      ],
      "execution_count": 3,
      "outputs": []
    },
    {
      "cell_type": "code",
      "metadata": {
        "id": "4fFBrZZt2-DG",
        "colab_type": "code",
        "colab": {}
      },
      "source": [
        "def ResNet_50(input_shape):\n",
        "    model =  Sequential([\n",
        "        Conv2D(64, kernel_size=7, strides=2, padding='same', input_shape = input_shape),\n",
        "        BatchNormalization(),\n",
        "        ReLU(),\n",
        "        MaxPooling2D(pool_size=3, strides=2, padding='same'),\n",
        "\n",
        "        ResnetBlock(64, 3, first_block=True),\n",
        "        ResnetBlock(128, 4),\n",
        "        ResnetBlock(256, 6),\n",
        "        ResnetBlock(512, 3),\n",
        "\n",
        "        GlobalAvgPool2D(),\n",
        "        Dense(units=10)])\n",
        "    return model\n",
        "\n",
        "def ResNet_101(input_shape):\n",
        "    model =  Sequential([\n",
        "        Conv2D(64, kernel_size=7, strides=2, padding='same', input_shape = input_shape),\n",
        "        BatchNormalization(),\n",
        "        ReLU(),\n",
        "        MaxPooling2D(pool_size=3, strides=2, padding='same'),\n",
        "\n",
        "        ResnetBlock(64, 3, first_block=True),\n",
        "        ResnetBlock(128, 4),\n",
        "        ResnetBlock(256, 23),\n",
        "        ResnetBlock(512, 3),\n",
        "\n",
        "        GlobalAvgPool2D(),\n",
        "        Dense(units=10)])\n",
        "    return model"
      ],
      "execution_count": 15,
      "outputs": []
    },
    {
      "cell_type": "code",
      "metadata": {
        "id": "6yoVOUxw3AAY",
        "colab_type": "code",
        "colab": {
          "base_uri": "https://localhost:8080/",
          "height": 487
        },
        "outputId": "cf30038c-729b-4faa-d20f-fc67a1e960f5"
      },
      "source": [
        "input_shape = (224, 224, 3)\n",
        "model = ResNet_50(input_shape)\n",
        "model.summary()"
      ],
      "execution_count": 16,
      "outputs": [
        {
          "output_type": "stream",
          "text": [
            "Model: \"sequential_5\"\n",
            "_________________________________________________________________\n",
            "Layer (type)                 Output Shape              Param #   \n",
            "=================================================================\n",
            "conv2d_148 (Conv2D)          (None, 112, 112, 64)      9472      \n",
            "_________________________________________________________________\n",
            "batch_normalization_133 (Bat (None, 112, 112, 64)      256       \n",
            "_________________________________________________________________\n",
            "re_lu_5 (ReLU)               (None, 112, 112, 64)      0         \n",
            "_________________________________________________________________\n",
            "max_pooling2d_5 (MaxPooling2 (None, 56, 56, 64)        0         \n",
            "_________________________________________________________________\n",
            "resnet_block_20 (ResnetBlock (None, 56, 56, 64)        223104    \n",
            "_________________________________________________________________\n",
            "resnet_block_21 (ResnetBlock (None, 28, 28, 128)       1119360   \n",
            "_________________________________________________________________\n",
            "resnet_block_22 (ResnetBlock (None, 14, 14, 256)       6831360   \n",
            "_________________________________________________________________\n",
            "resnet_block_23 (ResnetBlock (None, 7, 7, 512)         13123072  \n",
            "_________________________________________________________________\n",
            "global_average_pooling2d_5 ( (None, 512)               0         \n",
            "_________________________________________________________________\n",
            "dense_5 (Dense)              (None, 10)                5130      \n",
            "=================================================================\n",
            "Total params: 21,311,754\n",
            "Trainable params: 21,296,522\n",
            "Non-trainable params: 15,232\n",
            "_________________________________________________________________\n"
          ],
          "name": "stdout"
        }
      ]
    },
    {
      "cell_type": "code",
      "metadata": {
        "id": "eprCUMQB3ERe",
        "colab_type": "code",
        "colab": {
          "base_uri": "https://localhost:8080/",
          "height": 487
        },
        "outputId": "2452d5d4-b967-4968-95dc-0d43d59ec7a9"
      },
      "source": [
        "input_shape = (224, 224, 3)\n",
        "model = ResNet_101(input_shape)\n",
        "model.summary()"
      ],
      "execution_count": 17,
      "outputs": [
        {
          "output_type": "stream",
          "text": [
            "Model: \"sequential_6\"\n",
            "_________________________________________________________________\n",
            "Layer (type)                 Output Shape              Param #   \n",
            "=================================================================\n",
            "conv2d_184 (Conv2D)          (None, 112, 112, 64)      9472      \n",
            "_________________________________________________________________\n",
            "batch_normalization_166 (Bat (None, 112, 112, 64)      256       \n",
            "_________________________________________________________________\n",
            "re_lu_6 (ReLU)               (None, 112, 112, 64)      0         \n",
            "_________________________________________________________________\n",
            "max_pooling2d_6 (MaxPooling2 (None, 56, 56, 64)        0         \n",
            "_________________________________________________________________\n",
            "resnet_block_24 (ResnetBlock (None, 56, 56, 64)        223104    \n",
            "_________________________________________________________________\n",
            "resnet_block_25 (ResnetBlock (None, 28, 28, 128)       1119360   \n",
            "_________________________________________________________________\n",
            "resnet_block_26 (ResnetBlock (None, 14, 14, 256)       26928896  \n",
            "_________________________________________________________________\n",
            "resnet_block_27 (ResnetBlock (None, 7, 7, 512)         13123072  \n",
            "_________________________________________________________________\n",
            "global_average_pooling2d_6 ( (None, 512)               0         \n",
            "_________________________________________________________________\n",
            "dense_6 (Dense)              (None, 10)                5130      \n",
            "=================================================================\n",
            "Total params: 41,409,290\n",
            "Trainable params: 41,376,650\n",
            "Non-trainable params: 32,640\n",
            "_________________________________________________________________\n"
          ],
          "name": "stdout"
        }
      ]
    },
    {
      "cell_type": "code",
      "metadata": {
        "id": "c7lgptXUDfYE",
        "colab_type": "code",
        "colab": {}
      },
      "source": [
        ""
      ],
      "execution_count": null,
      "outputs": []
    }
  ]
}